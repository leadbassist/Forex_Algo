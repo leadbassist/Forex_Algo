{
 "cells": [
  {
   "cell_type": "code",
   "execution_count": 33,
   "id": "ae84f813",
   "metadata": {},
   "outputs": [],
   "source": [
    "import requests\n",
    "import pandas as pd\n",
    "import json\n",
    "from dateutil import parser"
   ]
  },
  {
   "cell_type": "code",
   "execution_count": 34,
   "id": "4977a99e",
   "metadata": {},
   "outputs": [],
   "source": [
    "API_KEY = \"eb37bea56c53b09e6f9d945964cea7c1-bfbf4e13bd8b3f2ccf15add1d4d8486e\"\n",
    "ACCOUNT_ID = \"101-002-24455013-001\"\n",
    "OANDA_URL = \"https://api-fxpractice.oanda.com/v3\""
   ]
  },
  {
   "cell_type": "code",
   "execution_count": 35,
   "id": "e8b39cf9",
   "metadata": {},
   "outputs": [],
   "source": [
    "# create a new session variable where we can make our request\n",
    "session = requests.Session()"
   ]
  },
  {
   "cell_type": "code",
   "execution_count": 36,
   "id": "26c778ef",
   "metadata": {},
   "outputs": [],
   "source": [
    "# pass the headers through the session\n",
    "session.headers.update({\n",
    "    \"Authorization\": f\"Bearer {API_KEY}\",\n",
    "    \"Content-Type\": \"application/json\",\n",
    "})"
   ]
  },
  {
   "cell_type": "code",
   "execution_count": 37,
   "id": "e13955b3",
   "metadata": {},
   "outputs": [],
   "source": [
    "# adding the parameters\n",
    "params = dict(\n",
    "    count = 10,\n",
    "    granularity = \"H1\",\n",
    "    price = \"MBA\"\n",
    ")"
   ]
  },
  {
   "cell_type": "code",
   "execution_count": 38,
   "id": "acfafe6a",
   "metadata": {},
   "outputs": [],
   "source": [
    "# the url to get candles\n",
    "url = f\"{OANDA_URL}/accounts/{ACCOUNT_ID}/instruments\""
   ]
  },
  {
   "cell_type": "code",
   "execution_count": 39,
   "id": "b5e0fa3a",
   "metadata": {},
   "outputs": [],
   "source": [
    "# make the request and save it to response\n",
    "response = session.get(url, params=None, data=None, headers=None)"
   ]
  },
  {
   "cell_type": "code",
   "execution_count": 40,
   "id": "1c49107e",
   "metadata": {},
   "outputs": [
    {
     "data": {
      "text/plain": [
       "200"
      ]
     },
     "execution_count": 40,
     "metadata": {},
     "output_type": "execute_result"
    }
   ],
   "source": [
    "# response status, ex, 200 for success\n",
    "response.status_code"
   ]
  },
  {
   "cell_type": "code",
   "execution_count": 41,
   "id": "6f4367a7",
   "metadata": {},
   "outputs": [],
   "source": [
    "# convert response to json and save it to data\n",
    "data = response.json()"
   ]
  },
  {
   "cell_type": "code",
   "execution_count": 42,
   "id": "bbc086e6",
   "metadata": {},
   "outputs": [
    {
     "data": {
      "text/plain": [
       "dict_keys(['instruments', 'lastTransactionID'])"
      ]
     },
     "execution_count": 42,
     "metadata": {},
     "output_type": "execute_result"
    }
   ],
   "source": [
    "data.keys()"
   ]
  },
  {
   "cell_type": "code",
   "execution_count": 43,
   "id": "b84fa873",
   "metadata": {},
   "outputs": [],
   "source": [
    "instruments_list = data['instruments']"
   ]
  },
  {
   "cell_type": "code",
   "execution_count": 44,
   "id": "2c270cd8",
   "metadata": {},
   "outputs": [
    {
     "data": {
      "text/plain": [
       "123"
      ]
     },
     "execution_count": 44,
     "metadata": {},
     "output_type": "execute_result"
    }
   ],
   "source": [
    "# get length of all the instruments which are loaded\n",
    "len(instruments_list)"
   ]
  },
  {
   "cell_type": "code",
   "execution_count": 45,
   "id": "1d050fa2",
   "metadata": {},
   "outputs": [
    {
     "data": {
      "text/plain": [
       "{'name': 'NZD_CAD',\n",
       " 'type': 'CURRENCY',\n",
       " 'displayName': 'NZD/CAD',\n",
       " 'pipLocation': -4,\n",
       " 'displayPrecision': 5,\n",
       " 'tradeUnitsPrecision': 0,\n",
       " 'minimumTradeSize': '1',\n",
       " 'maximumTrailingStopDistance': '1.00000',\n",
       " 'minimumTrailingStopDistance': '0.00050',\n",
       " 'maximumPositionSize': '0',\n",
       " 'maximumOrderUnits': '100000000',\n",
       " 'marginRate': '0.03',\n",
       " 'guaranteedStopLossOrderMode': 'DISABLED',\n",
       " 'tags': [{'type': 'ASSET_CLASS', 'name': 'CURRENCY'}],\n",
       " 'financing': {'longRate': '-0.0145',\n",
       "  'shortRate': '-0.0125',\n",
       "  'financingDaysOfWeek': [{'dayOfWeek': 'MONDAY', 'daysCharged': 1},\n",
       "   {'dayOfWeek': 'TUESDAY', 'daysCharged': 1},\n",
       "   {'dayOfWeek': 'WEDNESDAY', 'daysCharged': 1},\n",
       "   {'dayOfWeek': 'THURSDAY', 'daysCharged': 1},\n",
       "   {'dayOfWeek': 'FRIDAY', 'daysCharged': 1},\n",
       "   {'dayOfWeek': 'SATURDAY', 'daysCharged': 0},\n",
       "   {'dayOfWeek': 'SUNDAY', 'daysCharged': 0}]}}"
      ]
     },
     "execution_count": 45,
     "metadata": {},
     "output_type": "execute_result"
    }
   ],
   "source": [
    "# show only the first instrument from instruments_list\n",
    "instruments_list[0]"
   ]
  },
  {
   "cell_type": "code",
   "execution_count": 46,
   "id": "84645bd8",
   "metadata": {},
   "outputs": [
    {
     "data": {
      "text/plain": [
       "dict_keys(['name', 'type', 'displayName', 'pipLocation', 'displayPrecision', 'tradeUnitsPrecision', 'minimumTradeSize', 'maximumTrailingStopDistance', 'minimumTrailingStopDistance', 'maximumPositionSize', 'maximumOrderUnits', 'marginRate', 'guaranteedStopLossOrderMode', 'tags', 'financing'])"
      ]
     },
     "execution_count": 46,
     "metadata": {},
     "output_type": "execute_result"
    }
   ],
   "source": [
    "# see all the keys in each instrument\n",
    "instruments_list[0].keys()"
   ]
  },
  {
   "cell_type": "code",
   "execution_count": 47,
   "id": "47624fae",
   "metadata": {},
   "outputs": [],
   "source": [
    "# selecting only keys we are insterested in\n",
    "key_i = ['name', 'type', 'displayName', 'pipLocation', \n",
    "         'displayPrecision', 'tradeUnitsPrecision', 'marginRate']"
   ]
  },
  {
   "cell_type": "code",
   "execution_count": 48,
   "id": "fd102b1b",
   "metadata": {},
   "outputs": [],
   "source": [
    "# loop through all the instruments in the instruments_list\n",
    "# for each loop, print out the \"name\" key value\n",
    "\n",
    "# create an empty object first so we can fill it up when looping\n",
    "instruments_dict = {}\n",
    "\n",
    "# do the loop\n",
    "for i in instruments_list:\n",
    "    key = i['name']\n",
    "    instruments_dict[key] = { k: i[k] for k in key_i }"
   ]
  },
  {
   "cell_type": "code",
   "execution_count": 49,
   "id": "f36b9d51",
   "metadata": {},
   "outputs": [
    {
     "data": {
      "text/plain": [
       "{'name': 'NZD_CAD',\n",
       " 'type': 'CURRENCY',\n",
       " 'displayName': 'NZD/CAD',\n",
       " 'pipLocation': -4,\n",
       " 'displayPrecision': 5,\n",
       " 'tradeUnitsPrecision': 0,\n",
       " 'marginRate': '0.03'}"
      ]
     },
     "execution_count": 49,
     "metadata": {},
     "output_type": "execute_result"
    }
   ],
   "source": [
    "instruments_dict['NZD_CAD']"
   ]
  },
  {
   "cell_type": "code",
   "execution_count": 50,
   "id": "5e43a028",
   "metadata": {},
   "outputs": [],
   "source": [
    "# save instruments_dict data in a new file\n",
    "# new file: instruments.json\n",
    "# file location in \"data\" folder, which is up ne level, so, ../\n",
    "with open(\"../data/instruments.json\", \"w\") as f:\n",
    "    f.write(json.dumps(instruments_dict, indent=2))"
   ]
  },
  {
   "cell_type": "code",
   "execution_count": 51,
   "id": "ffc111c9",
   "metadata": {},
   "outputs": [],
   "source": [
    "# create a function that will fetch candles\n",
    "# example pair_name=NZD_CAD, count and granularity has default value in case none is provided\n",
    "def fetch_candles(pair_name, count=10, granularity=\"H1\"):\n",
    "    # construct the url with the variables mentioned in above cells\n",
    "    url = f\"{OANDA_URL}/instruments/{pair_name}/candles\"\n",
    "    params = dict(\n",
    "        count = count,\n",
    "        granularity = granularity,\n",
    "        price = \"MBA\"\n",
    "    )\n",
    "    response = session.get(url, params=params, data=None, headers=None)\n",
    "    data = response.json()\n",
    "    \n",
    "    # candles data may not be present, so...\n",
    "    # when successful response, that is, 200:\n",
    "    if response.status_code == 200:\n",
    "        # return empty data array ELSE show candles data\n",
    "        if 'candles' not in data:\n",
    "            data = []\n",
    "        else:\n",
    "            data = data['candles']\n",
    "    # return a tuple: status_code & data. show me status_code and the contents in data\n",
    "    return response.status_code, data"
   ]
  },
  {
   "cell_type": "code",
   "execution_count": 52,
   "id": "365b289a",
   "metadata": {},
   "outputs": [],
   "source": [
    "def get_candles_df(data):\n",
    "    if len(data) == 0:\n",
    "        return pd.DataFrame()\n",
    "    \n",
    "    prices = ['mid', 'bid', 'ask']\n",
    "    ohlc = ['o', 'h', 'l', 'c']\n",
    "    \n",
    "    # extract 'volume' and 'time' data and append it to final_data array\n",
    "    # each \n",
    "    final_data = []\n",
    "    # each instance inside 'data' is a 'candle'\n",
    "    # each 'candle' therefore has the keys: complete, volume, time, bid, mid, ask\n",
    "    for candle in data:\n",
    "        # we dont take in last candle, that is, complete = FALSE\n",
    "        if candle['complete'] == False:\n",
    "            continue\n",
    "        new_dict = {}\n",
    "        new_dict['time'] = parser.parse(candle['time'])\n",
    "        new_dict['volume'] = candle['volume']\n",
    "        for p in prices:\n",
    "            for o in ohlc:\n",
    "                new_dict[f\"{p}_{o}\"] = float(candle[p][o])\n",
    "        final_data.append(new_dict)\n",
    "    df = pd.DataFrame.from_dict(final_data)\n",
    "    return df\n",
    "\n",
    "def create_data_file(pair_name, count=10, granularity=\"H1\"):\n",
    "    code, data = fetch_candles(pair_name, count, granularity)\n",
    "    # when response code is not successful\n",
    "    if code != 200:\n",
    "        print(\"Failed\", pair_name, data)\n",
    "        return\n",
    "    # when no candle data is loaded\n",
    "    if len(data) == 0:\n",
    "        print(\"No candles\", pair_name)\n",
    "    # when response is successfull AND there is candle data    \n",
    "    candles_df = get_candles_df(data)\n",
    "    # turn into a pickle file and save it to data folder\n",
    "    candles_df.to_pickle(f\"../data/{pair_name}_{granularity}.pkl\")\n",
    "    # show us what happened\n",
    "    print(f\"{pair_name} {granularity} {candles_df.shape[0]} candles, {candles_df.time.min()} {candles_df.time.max()}\")"
   ]
  },
  {
   "cell_type": "code",
   "execution_count": 53,
   "id": "b1d67f20",
   "metadata": {},
   "outputs": [
    {
     "name": "stdout",
     "output_type": "stream",
     "text": [
      "NZD_CAD H4 20 candles, 2023-01-10 14:00:00+00:00 2023-01-13 18:00:00+00:00\n"
     ]
    }
   ],
   "source": [
    "create_data_file(\"NZD_CAD\", count=20, granularity=\"H4\")"
   ]
  },
  {
   "cell_type": "code",
   "execution_count": 54,
   "id": "b9ad0f88",
   "metadata": {},
   "outputs": [],
   "source": [
    "# run an instance\n",
    "code, data = fetch_candles(\"NZD_CAD\", count=20)\n",
    "candles_df = get_candles_df(data)\n"
   ]
  },
  {
   "cell_type": "code",
   "execution_count": 55,
   "id": "d2aebc35",
   "metadata": {},
   "outputs": [
    {
     "data": {
      "text/html": [
       "<div>\n",
       "<style scoped>\n",
       "    .dataframe tbody tr th:only-of-type {\n",
       "        vertical-align: middle;\n",
       "    }\n",
       "\n",
       "    .dataframe tbody tr th {\n",
       "        vertical-align: top;\n",
       "    }\n",
       "\n",
       "    .dataframe thead th {\n",
       "        text-align: right;\n",
       "    }\n",
       "</style>\n",
       "<table border=\"1\" class=\"dataframe\">\n",
       "  <thead>\n",
       "    <tr style=\"text-align: right;\">\n",
       "      <th></th>\n",
       "      <th>time</th>\n",
       "      <th>volume</th>\n",
       "      <th>mid_o</th>\n",
       "      <th>mid_h</th>\n",
       "      <th>mid_l</th>\n",
       "      <th>mid_c</th>\n",
       "      <th>bid_o</th>\n",
       "      <th>bid_h</th>\n",
       "      <th>bid_l</th>\n",
       "      <th>bid_c</th>\n",
       "      <th>ask_o</th>\n",
       "      <th>ask_h</th>\n",
       "      <th>ask_l</th>\n",
       "      <th>ask_c</th>\n",
       "    </tr>\n",
       "  </thead>\n",
       "  <tbody>\n",
       "    <tr>\n",
       "      <th>0</th>\n",
       "      <td>2023-01-13 02:00:00+00:00</td>\n",
       "      <td>5349</td>\n",
       "      <td>0.85472</td>\n",
       "      <td>0.85481</td>\n",
       "      <td>0.85275</td>\n",
       "      <td>0.85402</td>\n",
       "      <td>0.85463</td>\n",
       "      <td>0.85471</td>\n",
       "      <td>0.85265</td>\n",
       "      <td>0.85392</td>\n",
       "      <td>0.85481</td>\n",
       "      <td>0.85492</td>\n",
       "      <td>0.85285</td>\n",
       "      <td>0.85412</td>\n",
       "    </tr>\n",
       "    <tr>\n",
       "      <th>1</th>\n",
       "      <td>2023-01-13 03:00:00+00:00</td>\n",
       "      <td>2917</td>\n",
       "      <td>0.85404</td>\n",
       "      <td>0.85406</td>\n",
       "      <td>0.85312</td>\n",
       "      <td>0.85355</td>\n",
       "      <td>0.85394</td>\n",
       "      <td>0.85396</td>\n",
       "      <td>0.85303</td>\n",
       "      <td>0.85346</td>\n",
       "      <td>0.85414</td>\n",
       "      <td>0.85416</td>\n",
       "      <td>0.85322</td>\n",
       "      <td>0.85364</td>\n",
       "    </tr>\n",
       "    <tr>\n",
       "      <th>2</th>\n",
       "      <td>2023-01-13 04:00:00+00:00</td>\n",
       "      <td>2385</td>\n",
       "      <td>0.85351</td>\n",
       "      <td>0.85370</td>\n",
       "      <td>0.85271</td>\n",
       "      <td>0.85318</td>\n",
       "      <td>0.85342</td>\n",
       "      <td>0.85361</td>\n",
       "      <td>0.85261</td>\n",
       "      <td>0.85307</td>\n",
       "      <td>0.85360</td>\n",
       "      <td>0.85380</td>\n",
       "      <td>0.85281</td>\n",
       "      <td>0.85328</td>\n",
       "    </tr>\n",
       "    <tr>\n",
       "      <th>3</th>\n",
       "      <td>2023-01-13 05:00:00+00:00</td>\n",
       "      <td>3159</td>\n",
       "      <td>0.85318</td>\n",
       "      <td>0.85376</td>\n",
       "      <td>0.85162</td>\n",
       "      <td>0.85202</td>\n",
       "      <td>0.85305</td>\n",
       "      <td>0.85365</td>\n",
       "      <td>0.85152</td>\n",
       "      <td>0.85192</td>\n",
       "      <td>0.85330</td>\n",
       "      <td>0.85388</td>\n",
       "      <td>0.85171</td>\n",
       "      <td>0.85213</td>\n",
       "    </tr>\n",
       "    <tr>\n",
       "      <th>4</th>\n",
       "      <td>2023-01-13 06:00:00+00:00</td>\n",
       "      <td>3344</td>\n",
       "      <td>0.85204</td>\n",
       "      <td>0.85422</td>\n",
       "      <td>0.85200</td>\n",
       "      <td>0.85389</td>\n",
       "      <td>0.85194</td>\n",
       "      <td>0.85412</td>\n",
       "      <td>0.85190</td>\n",
       "      <td>0.85380</td>\n",
       "      <td>0.85214</td>\n",
       "      <td>0.85432</td>\n",
       "      <td>0.85209</td>\n",
       "      <td>0.85398</td>\n",
       "    </tr>\n",
       "    <tr>\n",
       "      <th>5</th>\n",
       "      <td>2023-01-13 07:00:00+00:00</td>\n",
       "      <td>6169</td>\n",
       "      <td>0.85386</td>\n",
       "      <td>0.85387</td>\n",
       "      <td>0.85202</td>\n",
       "      <td>0.85219</td>\n",
       "      <td>0.85377</td>\n",
       "      <td>0.85378</td>\n",
       "      <td>0.85191</td>\n",
       "      <td>0.85209</td>\n",
       "      <td>0.85395</td>\n",
       "      <td>0.85396</td>\n",
       "      <td>0.85213</td>\n",
       "      <td>0.85229</td>\n",
       "    </tr>\n",
       "    <tr>\n",
       "      <th>6</th>\n",
       "      <td>2023-01-13 08:00:00+00:00</td>\n",
       "      <td>7567</td>\n",
       "      <td>0.85222</td>\n",
       "      <td>0.85458</td>\n",
       "      <td>0.85154</td>\n",
       "      <td>0.85396</td>\n",
       "      <td>0.85212</td>\n",
       "      <td>0.85448</td>\n",
       "      <td>0.85143</td>\n",
       "      <td>0.85387</td>\n",
       "      <td>0.85232</td>\n",
       "      <td>0.85467</td>\n",
       "      <td>0.85166</td>\n",
       "      <td>0.85405</td>\n",
       "    </tr>\n",
       "    <tr>\n",
       "      <th>7</th>\n",
       "      <td>2023-01-13 09:00:00+00:00</td>\n",
       "      <td>5815</td>\n",
       "      <td>0.85396</td>\n",
       "      <td>0.85510</td>\n",
       "      <td>0.85282</td>\n",
       "      <td>0.85347</td>\n",
       "      <td>0.85387</td>\n",
       "      <td>0.85500</td>\n",
       "      <td>0.85272</td>\n",
       "      <td>0.85337</td>\n",
       "      <td>0.85406</td>\n",
       "      <td>0.85519</td>\n",
       "      <td>0.85291</td>\n",
       "      <td>0.85357</td>\n",
       "    </tr>\n",
       "    <tr>\n",
       "      <th>8</th>\n",
       "      <td>2023-01-13 10:00:00+00:00</td>\n",
       "      <td>4749</td>\n",
       "      <td>0.85344</td>\n",
       "      <td>0.85434</td>\n",
       "      <td>0.85284</td>\n",
       "      <td>0.85290</td>\n",
       "      <td>0.85334</td>\n",
       "      <td>0.85424</td>\n",
       "      <td>0.85274</td>\n",
       "      <td>0.85281</td>\n",
       "      <td>0.85355</td>\n",
       "      <td>0.85443</td>\n",
       "      <td>0.85294</td>\n",
       "      <td>0.85299</td>\n",
       "    </tr>\n",
       "    <tr>\n",
       "      <th>9</th>\n",
       "      <td>2023-01-13 11:00:00+00:00</td>\n",
       "      <td>5370</td>\n",
       "      <td>0.85289</td>\n",
       "      <td>0.85297</td>\n",
       "      <td>0.85124</td>\n",
       "      <td>0.85146</td>\n",
       "      <td>0.85279</td>\n",
       "      <td>0.85288</td>\n",
       "      <td>0.85114</td>\n",
       "      <td>0.85135</td>\n",
       "      <td>0.85299</td>\n",
       "      <td>0.85306</td>\n",
       "      <td>0.85133</td>\n",
       "      <td>0.85156</td>\n",
       "    </tr>\n",
       "    <tr>\n",
       "      <th>10</th>\n",
       "      <td>2023-01-13 12:00:00+00:00</td>\n",
       "      <td>5305</td>\n",
       "      <td>0.85148</td>\n",
       "      <td>0.85238</td>\n",
       "      <td>0.85116</td>\n",
       "      <td>0.85198</td>\n",
       "      <td>0.85139</td>\n",
       "      <td>0.85228</td>\n",
       "      <td>0.85106</td>\n",
       "      <td>0.85189</td>\n",
       "      <td>0.85156</td>\n",
       "      <td>0.85249</td>\n",
       "      <td>0.85125</td>\n",
       "      <td>0.85206</td>\n",
       "    </tr>\n",
       "    <tr>\n",
       "      <th>11</th>\n",
       "      <td>2023-01-13 13:00:00+00:00</td>\n",
       "      <td>7583</td>\n",
       "      <td>0.85202</td>\n",
       "      <td>0.85234</td>\n",
       "      <td>0.85078</td>\n",
       "      <td>0.85172</td>\n",
       "      <td>0.85193</td>\n",
       "      <td>0.85226</td>\n",
       "      <td>0.85066</td>\n",
       "      <td>0.85164</td>\n",
       "      <td>0.85210</td>\n",
       "      <td>0.85243</td>\n",
       "      <td>0.85089</td>\n",
       "      <td>0.85181</td>\n",
       "    </tr>\n",
       "    <tr>\n",
       "      <th>12</th>\n",
       "      <td>2023-01-13 14:00:00+00:00</td>\n",
       "      <td>9628</td>\n",
       "      <td>0.85176</td>\n",
       "      <td>0.85384</td>\n",
       "      <td>0.85086</td>\n",
       "      <td>0.85338</td>\n",
       "      <td>0.85167</td>\n",
       "      <td>0.85374</td>\n",
       "      <td>0.85076</td>\n",
       "      <td>0.85309</td>\n",
       "      <td>0.85185</td>\n",
       "      <td>0.85393</td>\n",
       "      <td>0.85095</td>\n",
       "      <td>0.85368</td>\n",
       "    </tr>\n",
       "    <tr>\n",
       "      <th>13</th>\n",
       "      <td>2023-01-13 15:00:00+00:00</td>\n",
       "      <td>12528</td>\n",
       "      <td>0.85330</td>\n",
       "      <td>0.85432</td>\n",
       "      <td>0.85256</td>\n",
       "      <td>0.85324</td>\n",
       "      <td>0.85302</td>\n",
       "      <td>0.85421</td>\n",
       "      <td>0.85246</td>\n",
       "      <td>0.85314</td>\n",
       "      <td>0.85357</td>\n",
       "      <td>0.85444</td>\n",
       "      <td>0.85266</td>\n",
       "      <td>0.85333</td>\n",
       "    </tr>\n",
       "    <tr>\n",
       "      <th>14</th>\n",
       "      <td>2023-01-13 16:00:00+00:00</td>\n",
       "      <td>6970</td>\n",
       "      <td>0.85322</td>\n",
       "      <td>0.85384</td>\n",
       "      <td>0.85226</td>\n",
       "      <td>0.85311</td>\n",
       "      <td>0.85313</td>\n",
       "      <td>0.85373</td>\n",
       "      <td>0.85217</td>\n",
       "      <td>0.85301</td>\n",
       "      <td>0.85331</td>\n",
       "      <td>0.85395</td>\n",
       "      <td>0.85236</td>\n",
       "      <td>0.85321</td>\n",
       "    </tr>\n",
       "    <tr>\n",
       "      <th>15</th>\n",
       "      <td>2023-01-13 17:00:00+00:00</td>\n",
       "      <td>5286</td>\n",
       "      <td>0.85311</td>\n",
       "      <td>0.85422</td>\n",
       "      <td>0.85275</td>\n",
       "      <td>0.85406</td>\n",
       "      <td>0.85302</td>\n",
       "      <td>0.85412</td>\n",
       "      <td>0.85265</td>\n",
       "      <td>0.85397</td>\n",
       "      <td>0.85320</td>\n",
       "      <td>0.85432</td>\n",
       "      <td>0.85285</td>\n",
       "      <td>0.85416</td>\n",
       "    </tr>\n",
       "    <tr>\n",
       "      <th>16</th>\n",
       "      <td>2023-01-13 18:00:00+00:00</td>\n",
       "      <td>3644</td>\n",
       "      <td>0.85413</td>\n",
       "      <td>0.85477</td>\n",
       "      <td>0.85357</td>\n",
       "      <td>0.85442</td>\n",
       "      <td>0.85404</td>\n",
       "      <td>0.85468</td>\n",
       "      <td>0.85346</td>\n",
       "      <td>0.85432</td>\n",
       "      <td>0.85422</td>\n",
       "      <td>0.85487</td>\n",
       "      <td>0.85366</td>\n",
       "      <td>0.85452</td>\n",
       "    </tr>\n",
       "    <tr>\n",
       "      <th>17</th>\n",
       "      <td>2023-01-13 19:00:00+00:00</td>\n",
       "      <td>3226</td>\n",
       "      <td>0.85441</td>\n",
       "      <td>0.85484</td>\n",
       "      <td>0.85400</td>\n",
       "      <td>0.85430</td>\n",
       "      <td>0.85430</td>\n",
       "      <td>0.85475</td>\n",
       "      <td>0.85389</td>\n",
       "      <td>0.85421</td>\n",
       "      <td>0.85452</td>\n",
       "      <td>0.85494</td>\n",
       "      <td>0.85411</td>\n",
       "      <td>0.85439</td>\n",
       "    </tr>\n",
       "    <tr>\n",
       "      <th>18</th>\n",
       "      <td>2023-01-13 20:00:00+00:00</td>\n",
       "      <td>2777</td>\n",
       "      <td>0.85432</td>\n",
       "      <td>0.85556</td>\n",
       "      <td>0.85418</td>\n",
       "      <td>0.85526</td>\n",
       "      <td>0.85422</td>\n",
       "      <td>0.85546</td>\n",
       "      <td>0.85408</td>\n",
       "      <td>0.85517</td>\n",
       "      <td>0.85442</td>\n",
       "      <td>0.85566</td>\n",
       "      <td>0.85428</td>\n",
       "      <td>0.85535</td>\n",
       "    </tr>\n",
       "    <tr>\n",
       "      <th>19</th>\n",
       "      <td>2023-01-13 21:00:00+00:00</td>\n",
       "      <td>1781</td>\n",
       "      <td>0.85524</td>\n",
       "      <td>0.85548</td>\n",
       "      <td>0.85482</td>\n",
       "      <td>0.85508</td>\n",
       "      <td>0.85514</td>\n",
       "      <td>0.85538</td>\n",
       "      <td>0.85467</td>\n",
       "      <td>0.85468</td>\n",
       "      <td>0.85534</td>\n",
       "      <td>0.85566</td>\n",
       "      <td>0.85493</td>\n",
       "      <td>0.85549</td>\n",
       "    </tr>\n",
       "  </tbody>\n",
       "</table>\n",
       "</div>"
      ],
      "text/plain": [
       "                        time  volume    mid_o    mid_h    mid_l    mid_c  \\\n",
       "0  2023-01-13 02:00:00+00:00    5349  0.85472  0.85481  0.85275  0.85402   \n",
       "1  2023-01-13 03:00:00+00:00    2917  0.85404  0.85406  0.85312  0.85355   \n",
       "2  2023-01-13 04:00:00+00:00    2385  0.85351  0.85370  0.85271  0.85318   \n",
       "3  2023-01-13 05:00:00+00:00    3159  0.85318  0.85376  0.85162  0.85202   \n",
       "4  2023-01-13 06:00:00+00:00    3344  0.85204  0.85422  0.85200  0.85389   \n",
       "5  2023-01-13 07:00:00+00:00    6169  0.85386  0.85387  0.85202  0.85219   \n",
       "6  2023-01-13 08:00:00+00:00    7567  0.85222  0.85458  0.85154  0.85396   \n",
       "7  2023-01-13 09:00:00+00:00    5815  0.85396  0.85510  0.85282  0.85347   \n",
       "8  2023-01-13 10:00:00+00:00    4749  0.85344  0.85434  0.85284  0.85290   \n",
       "9  2023-01-13 11:00:00+00:00    5370  0.85289  0.85297  0.85124  0.85146   \n",
       "10 2023-01-13 12:00:00+00:00    5305  0.85148  0.85238  0.85116  0.85198   \n",
       "11 2023-01-13 13:00:00+00:00    7583  0.85202  0.85234  0.85078  0.85172   \n",
       "12 2023-01-13 14:00:00+00:00    9628  0.85176  0.85384  0.85086  0.85338   \n",
       "13 2023-01-13 15:00:00+00:00   12528  0.85330  0.85432  0.85256  0.85324   \n",
       "14 2023-01-13 16:00:00+00:00    6970  0.85322  0.85384  0.85226  0.85311   \n",
       "15 2023-01-13 17:00:00+00:00    5286  0.85311  0.85422  0.85275  0.85406   \n",
       "16 2023-01-13 18:00:00+00:00    3644  0.85413  0.85477  0.85357  0.85442   \n",
       "17 2023-01-13 19:00:00+00:00    3226  0.85441  0.85484  0.85400  0.85430   \n",
       "18 2023-01-13 20:00:00+00:00    2777  0.85432  0.85556  0.85418  0.85526   \n",
       "19 2023-01-13 21:00:00+00:00    1781  0.85524  0.85548  0.85482  0.85508   \n",
       "\n",
       "      bid_o    bid_h    bid_l    bid_c    ask_o    ask_h    ask_l    ask_c  \n",
       "0   0.85463  0.85471  0.85265  0.85392  0.85481  0.85492  0.85285  0.85412  \n",
       "1   0.85394  0.85396  0.85303  0.85346  0.85414  0.85416  0.85322  0.85364  \n",
       "2   0.85342  0.85361  0.85261  0.85307  0.85360  0.85380  0.85281  0.85328  \n",
       "3   0.85305  0.85365  0.85152  0.85192  0.85330  0.85388  0.85171  0.85213  \n",
       "4   0.85194  0.85412  0.85190  0.85380  0.85214  0.85432  0.85209  0.85398  \n",
       "5   0.85377  0.85378  0.85191  0.85209  0.85395  0.85396  0.85213  0.85229  \n",
       "6   0.85212  0.85448  0.85143  0.85387  0.85232  0.85467  0.85166  0.85405  \n",
       "7   0.85387  0.85500  0.85272  0.85337  0.85406  0.85519  0.85291  0.85357  \n",
       "8   0.85334  0.85424  0.85274  0.85281  0.85355  0.85443  0.85294  0.85299  \n",
       "9   0.85279  0.85288  0.85114  0.85135  0.85299  0.85306  0.85133  0.85156  \n",
       "10  0.85139  0.85228  0.85106  0.85189  0.85156  0.85249  0.85125  0.85206  \n",
       "11  0.85193  0.85226  0.85066  0.85164  0.85210  0.85243  0.85089  0.85181  \n",
       "12  0.85167  0.85374  0.85076  0.85309  0.85185  0.85393  0.85095  0.85368  \n",
       "13  0.85302  0.85421  0.85246  0.85314  0.85357  0.85444  0.85266  0.85333  \n",
       "14  0.85313  0.85373  0.85217  0.85301  0.85331  0.85395  0.85236  0.85321  \n",
       "15  0.85302  0.85412  0.85265  0.85397  0.85320  0.85432  0.85285  0.85416  \n",
       "16  0.85404  0.85468  0.85346  0.85432  0.85422  0.85487  0.85366  0.85452  \n",
       "17  0.85430  0.85475  0.85389  0.85421  0.85452  0.85494  0.85411  0.85439  \n",
       "18  0.85422  0.85546  0.85408  0.85517  0.85442  0.85566  0.85428  0.85535  \n",
       "19  0.85514  0.85538  0.85467  0.85468  0.85534  0.85566  0.85493  0.85549  "
      ]
     },
     "execution_count": 55,
     "metadata": {},
     "output_type": "execute_result"
    }
   ],
   "source": [
    "candles_df"
   ]
  },
  {
   "cell_type": "code",
   "execution_count": 56,
   "id": "f0d27586",
   "metadata": {},
   "outputs": [
    {
     "name": "stdout",
     "output_type": "stream",
     "text": [
      "<class 'pandas.core.frame.DataFrame'>\n",
      "RangeIndex: 20 entries, 0 to 19\n",
      "Data columns (total 14 columns):\n",
      " #   Column  Non-Null Count  Dtype                  \n",
      "---  ------  --------------  -----                  \n",
      " 0   time    20 non-null     datetime64[ns, tzutc()]\n",
      " 1   volume  20 non-null     int64                  \n",
      " 2   mid_o   20 non-null     float64                \n",
      " 3   mid_h   20 non-null     float64                \n",
      " 4   mid_l   20 non-null     float64                \n",
      " 5   mid_c   20 non-null     float64                \n",
      " 6   bid_o   20 non-null     float64                \n",
      " 7   bid_h   20 non-null     float64                \n",
      " 8   bid_l   20 non-null     float64                \n",
      " 9   bid_c   20 non-null     float64                \n",
      " 10  ask_o   20 non-null     float64                \n",
      " 11  ask_h   20 non-null     float64                \n",
      " 12  ask_l   20 non-null     float64                \n",
      " 13  ask_c   20 non-null     float64                \n",
      "dtypes: datetime64[ns, tzutc()](1), float64(12), int64(1)\n",
      "memory usage: 2.3 KB\n"
     ]
    }
   ],
   "source": [
    "candles_df.info()"
   ]
  },
  {
   "cell_type": "code",
   "execution_count": 57,
   "id": "a6142cac",
   "metadata": {},
   "outputs": [],
   "source": [
    "our_curr = ['EUR', 'USD', 'GBP', 'CAD', 'AUD', 'NZD', 'JPY']"
   ]
  },
  {
   "cell_type": "code",
   "execution_count": 58,
   "id": "ce024b81",
   "metadata": {},
   "outputs": [
    {
     "data": {
      "text/plain": [
       "dict_keys(['NZD_CAD', 'EUR_SGD', 'EU50_EUR', 'XAU_CAD', 'EUR_AUD', 'AU200_AUD', 'TRY_JPY', 'USD_SGD', 'EUR_SEK', 'AUD_CHF', 'SOYBN_USD', 'HKD_JPY', 'XAU_SGD', 'CORN_USD', 'GBP_AUD', 'USD_PLN', 'XAU_XAG', 'NAS100_USD', 'CAD_HKD', 'CH20_CHF', 'XAG_CHF', 'USD_CHF', 'XAG_HKD', 'AUD_HKD', 'NZD_CHF', 'ESPIX_EUR', 'GBP_CHF', 'USD_THB', 'XAU_JPY', 'XAU_HKD', 'GBP_CAD', 'EUR_HKD', 'CHF_JPY', 'GBP_HKD', 'EUR_NZD', 'XAG_AUD', 'WTICO_USD', 'XAG_NZD', 'AUD_SGD', 'TWIX_USD', 'EUR_JPY', 'EUR_TRY', 'USD_JPY', 'SGD_JPY', 'GBP_ZAR', 'XAG_JPY', 'ZAR_JPY', 'EUR_HUF', 'NZD_JPY', 'CN50_USD', 'CHF_ZAR', 'AUD_JPY', 'EUR_CHF', 'EUR_ZAR', 'CHINAH_HKD', 'NL25_EUR', 'USD_HKD', 'DE30_EUR', 'NZD_HKD', 'CAD_JPY', 'XAU_EUR', 'XPT_USD', 'SG30_SGD', 'EUR_USD', 'XAG_CAD', 'JP225_USD', 'EUR_CAD', 'USD_HUF', 'UK10YB_GBP', 'USD_MXN', 'GBP_USD', 'XAU_CHF', 'USD_DKK', 'XAU_NZD', 'USD_ZAR', 'XAU_GBP', 'USD_CZK', 'XAG_SGD', 'CAD_CHF', 'BCO_USD', 'EUR_DKK', 'USD_SEK', 'GBP_SGD', 'EUR_CZK', 'WHEAT_USD', 'XAU_AUD', 'CAD_SGD', 'AUD_NZD', 'FR40_EUR', 'CHF_HKD', 'EUR_GBP', 'US30_USD', 'EUR_NOK', 'XAU_USD', 'NATGAS_USD', 'UK100_GBP', 'GBP_PLN', 'JP225Y_JPY', 'AUD_CAD', 'EUR_PLN', 'SUGAR_USD', 'GBP_NZD', 'DE10YB_EUR', 'USB02Y_USD', 'AUD_USD', 'USD_CAD', 'US2000_USD', 'USB10Y_USD', 'NZD_USD', 'XAG_EUR', 'HK33_HKD', 'XAG_GBP', 'NZD_SGD', 'SPX500_USD', 'USD_NOK', 'USD_CNH', 'USB30Y_USD', 'XAG_USD', 'USB05Y_USD', 'XCU_USD', 'SGD_CHF', 'USD_TRY', 'GBP_JPY'])"
      ]
     },
     "execution_count": 58,
     "metadata": {},
     "output_type": "execute_result"
    }
   ],
   "source": [
    "# list of all currency combinations coming from OANDA API\n",
    "instruments_dict.keys()"
   ]
  },
  {
   "cell_type": "code",
   "execution_count": 59,
   "id": "dfe2af59",
   "metadata": {},
   "outputs": [
    {
     "name": "stdout",
     "output_type": "stream",
     "text": [
      "EUR_USD H1 4001 candles, 2022-05-25 00:00:00+00:00 2023-01-13 21:00:00+00:00\n",
      "EUR_USD H4 4001 candles, 2020-06-22 01:00:00+00:00 2023-01-13 18:00:00+00:00\n",
      "EUR_GBP H1 4001 candles, 2022-05-25 01:00:00+00:00 2023-01-13 21:00:00+00:00\n",
      "EUR_GBP H4 4001 candles, 2020-06-22 01:00:00+00:00 2023-01-13 18:00:00+00:00\n",
      "EUR_CAD H1 4001 candles, 2022-05-25 01:00:00+00:00 2023-01-13 21:00:00+00:00\n",
      "EUR_CAD H4 4001 candles, 2020-06-22 01:00:00+00:00 2023-01-13 18:00:00+00:00\n",
      "EUR_AUD H1 4001 candles, 2022-05-25 01:00:00+00:00 2023-01-13 21:00:00+00:00\n",
      "EUR_AUD H4 4001 candles, 2020-06-22 01:00:00+00:00 2023-01-13 18:00:00+00:00\n",
      "EUR_NZD H1 4001 candles, 2022-05-25 00:00:00+00:00 2023-01-13 21:00:00+00:00\n",
      "EUR_NZD H4 4001 candles, 2020-06-22 01:00:00+00:00 2023-01-13 18:00:00+00:00\n",
      "EUR_JPY H1 4001 candles, 2022-05-25 01:00:00+00:00 2023-01-13 21:00:00+00:00\n",
      "EUR_JPY H4 4001 candles, 2020-06-19 17:00:00+00:00 2023-01-13 18:00:00+00:00\n",
      "USD_CAD H1 4001 candles, 2022-05-25 01:00:00+00:00 2023-01-13 21:00:00+00:00\n",
      "USD_CAD H4 4001 candles, 2020-06-22 01:00:00+00:00 2023-01-13 18:00:00+00:00\n",
      "USD_JPY H1 4001 candles, 2022-05-25 00:00:00+00:00 2023-01-13 21:00:00+00:00\n",
      "USD_JPY H4 4001 candles, 2020-06-22 05:00:00+00:00 2023-01-13 18:00:00+00:00\n",
      "GBP_USD H1 4001 candles, 2022-05-25 00:00:00+00:00 2023-01-13 21:00:00+00:00\n",
      "GBP_USD H4 4001 candles, 2020-06-22 01:00:00+00:00 2023-01-13 18:00:00+00:00\n",
      "GBP_CAD H1 4001 candles, 2022-05-25 01:00:00+00:00 2023-01-13 21:00:00+00:00\n",
      "GBP_CAD H4 4001 candles, 2020-06-22 01:00:00+00:00 2023-01-13 18:00:00+00:00\n",
      "GBP_AUD H1 4001 candles, 2022-05-25 00:00:00+00:00 2023-01-13 21:00:00+00:00\n",
      "GBP_AUD H4 4001 candles, 2020-06-22 01:00:00+00:00 2023-01-13 18:00:00+00:00\n",
      "GBP_NZD H1 4001 candles, 2022-05-25 00:00:00+00:00 2023-01-13 21:00:00+00:00\n",
      "GBP_NZD H4 4001 candles, 2020-06-22 01:00:00+00:00 2023-01-13 18:00:00+00:00\n",
      "GBP_JPY H1 4001 candles, 2022-05-25 01:00:00+00:00 2023-01-13 21:00:00+00:00\n",
      "GBP_JPY H4 4001 candles, 2020-06-22 01:00:00+00:00 2023-01-13 18:00:00+00:00\n",
      "CAD_JPY H1 4001 candles, 2022-05-25 01:00:00+00:00 2023-01-13 21:00:00+00:00\n",
      "CAD_JPY H4 4001 candles, 2020-06-22 01:00:00+00:00 2023-01-13 18:00:00+00:00\n",
      "AUD_USD H1 4001 candles, 2022-05-25 00:00:00+00:00 2023-01-13 21:00:00+00:00\n",
      "AUD_USD H4 4001 candles, 2020-06-22 01:00:00+00:00 2023-01-13 18:00:00+00:00\n",
      "AUD_CAD H1 4001 candles, 2022-05-25 01:00:00+00:00 2023-01-13 21:00:00+00:00\n",
      "AUD_CAD H4 4001 candles, 2020-06-22 01:00:00+00:00 2023-01-13 18:00:00+00:00\n",
      "AUD_NZD H1 4001 candles, 2022-05-25 00:00:00+00:00 2023-01-13 21:00:00+00:00\n",
      "AUD_NZD H4 4001 candles, 2020-06-21 21:00:00+00:00 2023-01-13 18:00:00+00:00\n",
      "AUD_JPY H1 4001 candles, 2022-05-25 01:00:00+00:00 2023-01-13 21:00:00+00:00\n",
      "AUD_JPY H4 4001 candles, 2020-06-23 01:00:00+00:00 2023-01-13 18:00:00+00:00\n",
      "NZD_USD H1 4001 candles, 2022-05-25 03:00:00+00:00 2023-01-13 21:00:00+00:00\n",
      "NZD_USD H4 4001 candles, 2020-06-22 09:00:00+00:00 2023-01-13 18:00:00+00:00\n",
      "NZD_CAD H1 4001 candles, 2022-05-25 00:00:00+00:00 2023-01-13 21:00:00+00:00\n",
      "NZD_CAD H4 4001 candles, 2020-06-22 01:00:00+00:00 2023-01-13 18:00:00+00:00\n",
      "NZD_JPY H1 4001 candles, 2022-05-25 00:00:00+00:00 2023-01-13 21:00:00+00:00\n",
      "NZD_JPY H4 4001 candles, 2020-06-22 05:00:00+00:00 2023-01-13 18:00:00+00:00\n"
     ]
    }
   ],
   "source": [
    "# create all forms of pairs possible with values in our_curr\n",
    "# during each loop, feed the value to p1\n",
    "for p1 in our_curr:\n",
    "    # print(p1)\n",
    "    # during each loop, feed the value to p2\n",
    "    for p2 in our_curr:\n",
    "        pr = f\"{p1}_{p2}\"\n",
    "        # print(pr)\n",
    "        # show instruments if \"pr\" matches any of the pairs from OANDA\n",
    "        if pr in instruments_dict:\n",
    "            # if matches, give me H1 and H4 candles\n",
    "            for g in [\"H1\", \"H4\"]:\n",
    "                create_data_file(pr, count=4001, granularity=g)"
   ]
  },
  {
   "cell_type": "code",
   "execution_count": null,
   "id": "8f18672c",
   "metadata": {},
   "outputs": [],
   "source": []
  },
  {
   "cell_type": "code",
   "execution_count": null,
   "id": "58992042",
   "metadata": {},
   "outputs": [],
   "source": []
  }
 ],
 "metadata": {
  "kernelspec": {
   "display_name": "Python 3 (ipykernel)",
   "language": "python",
   "name": "python3"
  },
  "language_info": {
   "codemirror_mode": {
    "name": "ipython",
    "version": 3
   },
   "file_extension": ".py",
   "mimetype": "text/x-python",
   "name": "python",
   "nbconvert_exporter": "python",
   "pygments_lexer": "ipython3",
   "version": "3.8.10"
  }
 },
 "nbformat": 4,
 "nbformat_minor": 5
}
